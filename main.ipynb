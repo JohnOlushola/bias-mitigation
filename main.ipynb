{
 "cells": [
  {
   "cell_type": "markdown",
   "metadata": {},
   "source": [
    "# Assigment: Effect of regularisation on accuracy-fairness trade-off"
   ]
  },
  {
   "cell_type": "markdown",
   "metadata": {},
   "source": [
    "## Init"
   ]
  },
  {
   "cell_type": "code",
   "execution_count": 1,
   "metadata": {},
   "outputs": [],
   "source": [
    "import pandas as pd\n",
    "from dataset import Dataset\n",
    "from models import LogisticRegressionClassifier\n",
    "from analysis import Analysis"
   ]
  },
  {
   "cell_type": "code",
   "execution_count": 2,
   "metadata": {},
   "outputs": [
    {
     "name": "stdout",
     "output_type": "stream",
     "text": [
      "Adult Dataset initialized\n",
      "German Dataset initialized\n"
     ]
    }
   ],
   "source": [
    "adult_ds = Dataset(dataset_name=\"adult\")\n",
    "german_ds = Dataset(dataset_name=\"german\")"
   ]
  },
  {
   "cell_type": "code",
   "execution_count": 3,
   "metadata": {},
   "outputs": [],
   "source": [
    "C_values = [0.0001, 0.001, 0.01, 0.1, 1]"
   ]
  },
  {
   "cell_type": "markdown",
   "metadata": {},
   "source": [
    "# Adult Income Dataset"
   ]
  },
  {
   "cell_type": "code",
   "execution_count": 4,
   "metadata": {},
   "outputs": [],
   "source": [
    "selected_dataset = adult_ds\n",
    "X_train, y_train, X_test, y_test = selected_dataset.get_data()"
   ]
  },
  {
   "cell_type": "markdown",
   "metadata": {},
   "source": [
    "## Running through Solvers and Penalties"
   ]
  },
  {
   "cell_type": "code",
   "execution_count": 5,
   "metadata": {},
   "outputs": [],
   "source": [
    "models = [{'solver': \"saga\", \"params\":{'penalty': \"l2\", 'C': 1, 'max_iter': 1000, 'tol': 1e-4}},\n",
    "          {'solver': \"saga\", \"params\":{'penalty': \"l1\", 'C': 1, 'max_iter': 1000, 'tol': 1e-4}},\n",
    "          {'solver': \"saga\", \"params\":{'penalty': \"elasticnet\", 'C': 1, 'max_iter': 1000, 'tol': 1e-4, 'l1_ratio': 0.5}},\n",
    "          {'solver': \"saga\", \"params\":{'penalty': \"none\"}},\n",
    "          {'solver': \"sag\", \"params\":{'penalty': \"l2\", 'C': 1, 'max_iter': 1000, 'tol': 1e-4}},\n",
    "          {'solver': \"sag\", \"params\":{'penalty': \"none\"}},\n",
    "          {'solver': \"liblinear\", \"params\":{'penalty': \"l1\", 'C': 1, 'max_iter': 1000, 'tol': 1e-4}},\n",
    "          {'solver': \"liblinear\", \"params\":{'penalty': \"l2\", 'C': 1, 'max_iter': 1000, 'tol': 1e-4}},\n",
    "          {'solver': \"lbfgs\", \"params\":{'penalty': \"l2\", 'C': 1, 'max_iter': 1000, 'tol': 1e-4}},\n",
    "          {'solver': \"lbfgs\", \"params\":{'penalty': \"none\"}},\n",
    "          {'solver': \"newton-cg\", \"params\":{'penalty': \"l2\", 'C': 1, 'max_iter': 1000, 'tol': 1e-4}},\n",
    "          {'solver': \"newton-cg\", \"params\":{'penalty': \"none\"}}]"
   ]
  },
  {
   "cell_type": "code",
   "execution_count": 6,
   "metadata": {},
   "outputs": [
    {
     "name": "stdout",
     "output_type": "stream",
     "text": [
      "Running model: LogisticRegressionClassifier solver saga with l2 regularization\n",
      "Running model: LogisticRegressionClassifier solver saga with l1 regularization\n",
      "Running model: LogisticRegressionClassifier solver saga with elasticnet regularization\n",
      "Running model: LogisticRegressionClassifier solver saga with none regularization\n"
     ]
    },
    {
     "name": "stderr",
     "output_type": "stream",
     "text": [
      "The max_iter was reached which means the coef_ did not converge\n",
      "The max_iter was reached which means the coef_ did not converge\n"
     ]
    },
    {
     "name": "stdout",
     "output_type": "stream",
     "text": [
      "Running model: LogisticRegressionClassifier solver sag with l2 regularization\n",
      "Running model: LogisticRegressionClassifier solver sag with none regularization\n"
     ]
    },
    {
     "name": "stderr",
     "output_type": "stream",
     "text": [
      "The max_iter was reached which means the coef_ did not converge\n",
      "The max_iter was reached which means the coef_ did not converge\n"
     ]
    },
    {
     "name": "stdout",
     "output_type": "stream",
     "text": [
      "Running model: LogisticRegressionClassifier solver liblinear with l1 regularization\n",
      "Running model: LogisticRegressionClassifier solver liblinear with l2 regularization\n",
      "Running model: LogisticRegressionClassifier solver lbfgs with l2 regularization\n",
      "Running model: LogisticRegressionClassifier solver lbfgs with none regularization\n",
      "Running model: LogisticRegressionClassifier solver newton-cg with l2 regularization\n",
      "Running model: LogisticRegressionClassifier solver newton-cg with none regularization\n"
     ]
    }
   ],
   "source": [
    "results = []\n",
    "\n",
    "for model in models:\n",
    "    clf = LogisticRegressionClassifier(verbose=False, dataset=selected_dataset, solver=model['solver'], params=model['params'], privileged_groups=selected_dataset.privileged_groups, unprivileged_groups=selected_dataset.unprivileged_groups)\n",
    "    print(\"Running model: \" + str(clf.__class__.__name__) + \" solver \" + model['solver'] + \" with \" + str(model['params']['penalty']) + \" regularization\")\n",
    "    results.append((model['solver'] + \"_\" + str(model['params']['penalty']), *clf.run(selected_dataset)))\n"
   ]
  },
  {
   "cell_type": "code",
   "execution_count": 7,
   "metadata": {},
   "outputs": [
    {
     "name": "stdout",
     "output_type": "stream",
     "text": [
      "Solver-Penalty Test\n"
     ]
    },
    {
     "data": {
      "text/html": [
       "<div>\n",
       "<style scoped>\n",
       "    .dataframe tbody tr th:only-of-type {\n",
       "        vertical-align: middle;\n",
       "    }\n",
       "\n",
       "    .dataframe tbody tr th {\n",
       "        vertical-align: top;\n",
       "    }\n",
       "\n",
       "    .dataframe thead th {\n",
       "        text-align: right;\n",
       "    }\n",
       "</style>\n",
       "<table border=\"1\" class=\"dataframe\">\n",
       "  <thead>\n",
       "    <tr style=\"text-align: right;\">\n",
       "      <th></th>\n",
       "      <th>model</th>\n",
       "      <th>accuracy</th>\n",
       "      <th>std</th>\n",
       "      <th>fairness_metric</th>\n",
       "    </tr>\n",
       "  </thead>\n",
       "  <tbody>\n",
       "    <tr>\n",
       "      <th>0</th>\n",
       "      <td>saga_l2</td>\n",
       "      <td>0.804001</td>\n",
       "      <td>0.00434</td>\n",
       "      <td>-0.464784</td>\n",
       "    </tr>\n",
       "    <tr>\n",
       "      <th>1</th>\n",
       "      <td>saga_l1</td>\n",
       "      <td>0.804001</td>\n",
       "      <td>0.00434</td>\n",
       "      <td>-0.464784</td>\n",
       "    </tr>\n",
       "    <tr>\n",
       "      <th>2</th>\n",
       "      <td>saga_elasticnet</td>\n",
       "      <td>0.804001</td>\n",
       "      <td>0.00434</td>\n",
       "      <td>-0.464784</td>\n",
       "    </tr>\n",
       "    <tr>\n",
       "      <th>3</th>\n",
       "      <td>saga_none</td>\n",
       "      <td>0.804001</td>\n",
       "      <td>0.00434</td>\n",
       "      <td>-0.464784</td>\n",
       "    </tr>\n",
       "    <tr>\n",
       "      <th>4</th>\n",
       "      <td>sag_l2</td>\n",
       "      <td>0.804001</td>\n",
       "      <td>0.00434</td>\n",
       "      <td>-0.464784</td>\n",
       "    </tr>\n",
       "    <tr>\n",
       "      <th>5</th>\n",
       "      <td>sag_none</td>\n",
       "      <td>0.804001</td>\n",
       "      <td>0.00434</td>\n",
       "      <td>-0.464784</td>\n",
       "    </tr>\n",
       "    <tr>\n",
       "      <th>6</th>\n",
       "      <td>liblinear_l1</td>\n",
       "      <td>0.804001</td>\n",
       "      <td>0.00434</td>\n",
       "      <td>-0.464784</td>\n",
       "    </tr>\n",
       "    <tr>\n",
       "      <th>7</th>\n",
       "      <td>liblinear_l2</td>\n",
       "      <td>0.804001</td>\n",
       "      <td>0.00434</td>\n",
       "      <td>-0.464784</td>\n",
       "    </tr>\n",
       "    <tr>\n",
       "      <th>8</th>\n",
       "      <td>lbfgs_l2</td>\n",
       "      <td>0.804001</td>\n",
       "      <td>0.00434</td>\n",
       "      <td>-0.464784</td>\n",
       "    </tr>\n",
       "    <tr>\n",
       "      <th>9</th>\n",
       "      <td>lbfgs_none</td>\n",
       "      <td>0.804001</td>\n",
       "      <td>0.00434</td>\n",
       "      <td>-0.464784</td>\n",
       "    </tr>\n",
       "    <tr>\n",
       "      <th>10</th>\n",
       "      <td>newton-cg_l2</td>\n",
       "      <td>0.804001</td>\n",
       "      <td>0.00434</td>\n",
       "      <td>-0.464784</td>\n",
       "    </tr>\n",
       "    <tr>\n",
       "      <th>11</th>\n",
       "      <td>newton-cg_none</td>\n",
       "      <td>0.804001</td>\n",
       "      <td>0.00434</td>\n",
       "      <td>-0.464784</td>\n",
       "    </tr>\n",
       "  </tbody>\n",
       "</table>\n",
       "</div>"
      ],
      "text/plain": [
       "              model  accuracy      std  fairness_metric\n",
       "0           saga_l2  0.804001  0.00434        -0.464784\n",
       "1           saga_l1  0.804001  0.00434        -0.464784\n",
       "2   saga_elasticnet  0.804001  0.00434        -0.464784\n",
       "3         saga_none  0.804001  0.00434        -0.464784\n",
       "4            sag_l2  0.804001  0.00434        -0.464784\n",
       "5          sag_none  0.804001  0.00434        -0.464784\n",
       "6      liblinear_l1  0.804001  0.00434        -0.464784\n",
       "7      liblinear_l2  0.804001  0.00434        -0.464784\n",
       "8          lbfgs_l2  0.804001  0.00434        -0.464784\n",
       "9        lbfgs_none  0.804001  0.00434        -0.464784\n",
       "10     newton-cg_l2  0.804001  0.00434        -0.464784\n",
       "11   newton-cg_none  0.804001  0.00434        -0.464784"
      ]
     },
     "execution_count": 7,
     "metadata": {},
     "output_type": "execute_result"
    }
   ],
   "source": [
    "print(\"Solver-Penalty Test\")\n",
    "\n",
    "# display results\n",
    "df = pd.DataFrame(results, columns=['model', 'accuracy', 'std', 'fairness_metric'])\n",
    "df = df.sort_values(by=['accuracy'], ascending=False) # sort by accuracy\n",
    "\n",
    "# show\n",
    "df"
   ]
  },
  {
   "cell_type": "markdown",
   "metadata": {},
   "source": [
    "## Task 1: Machine Learning Based Model\n"
   ]
  },
  {
   "cell_type": "markdown",
   "metadata": {},
   "source": [
    "### Hyperparameter search over C (Lambda)\n",
    "\n",
    "- Solver: liblinear\n",
    "- Dataset: Adult\n",
    "- C: 0.0001 to 0.1\n",
    "- Penalty: l2"
   ]
  },
  {
   "cell_type": "code",
   "execution_count": 8,
   "metadata": {},
   "outputs": [
    {
     "name": "stdout",
     "output_type": "stream",
     "text": [
      "Best accuracy: 3\n",
      "Best fairness: 0\n",
      "Best accuracy+fairness: None\n"
     ]
    }
   ],
   "source": [
    "analyser = Analysis(dataset=selected_dataset, C_values=C_values, solver=\"liblinear\", params={\"penalty\": \"l2\"}, mitigated=False)\n",
    "analysis = analyser.run()"
   ]
  },
  {
   "cell_type": "code",
   "execution_count": 9,
   "metadata": {},
   "outputs": [
    {
     "name": "stdout",
     "output_type": "stream",
     "text": [
      "Performance measures over hyperparameter search:\n"
     ]
    },
    {
     "data": {
      "text/html": [
       "<div>\n",
       "<style scoped>\n",
       "    .dataframe tbody tr th:only-of-type {\n",
       "        vertical-align: middle;\n",
       "    }\n",
       "\n",
       "    .dataframe tbody tr th {\n",
       "        vertical-align: top;\n",
       "    }\n",
       "\n",
       "    .dataframe thead th {\n",
       "        text-align: right;\n",
       "    }\n",
       "</style>\n",
       "<table border=\"1\" class=\"dataframe\">\n",
       "  <thead>\n",
       "    <tr style=\"text-align: right;\">\n",
       "      <th></th>\n",
       "      <th>model</th>\n",
       "      <th>accuracy</th>\n",
       "      <th>accuracy_std</th>\n",
       "      <th>fairness</th>\n",
       "    </tr>\n",
       "  </thead>\n",
       "  <tbody>\n",
       "    <tr>\n",
       "      <th>0</th>\n",
       "      <td>0.0001</td>\n",
       "      <td>0.797216</td>\n",
       "      <td>0.005006</td>\n",
       "      <td>-0.242389</td>\n",
       "    </tr>\n",
       "    <tr>\n",
       "      <th>1</th>\n",
       "      <td>0.0010</td>\n",
       "      <td>0.803387</td>\n",
       "      <td>0.004469</td>\n",
       "      <td>-0.454879</td>\n",
       "    </tr>\n",
       "    <tr>\n",
       "      <th>2</th>\n",
       "      <td>0.0100</td>\n",
       "      <td>0.803914</td>\n",
       "      <td>0.004465</td>\n",
       "      <td>-0.462947</td>\n",
       "    </tr>\n",
       "    <tr>\n",
       "      <th>3</th>\n",
       "      <td>0.1000</td>\n",
       "      <td>0.804001</td>\n",
       "      <td>0.004340</td>\n",
       "      <td>-0.464784</td>\n",
       "    </tr>\n",
       "    <tr>\n",
       "      <th>4</th>\n",
       "      <td>1.0000</td>\n",
       "      <td>0.804001</td>\n",
       "      <td>0.004340</td>\n",
       "      <td>-0.464784</td>\n",
       "    </tr>\n",
       "  </tbody>\n",
       "</table>\n",
       "</div>"
      ],
      "text/plain": [
       "    model  accuracy  accuracy_std  fairness\n",
       "0  0.0001  0.797216      0.005006 -0.242389\n",
       "1  0.0010  0.803387      0.004469 -0.454879\n",
       "2  0.0100  0.803914      0.004465 -0.462947\n",
       "3  0.1000  0.804001      0.004340 -0.464784\n",
       "4  1.0000  0.804001      0.004340 -0.464784"
      ]
     },
     "execution_count": 9,
     "metadata": {},
     "output_type": "execute_result"
    }
   ],
   "source": [
    "print(\"Performance measures over hyperparameter search:\")\n",
    "analysis['data_frame']"
   ]
  },
  {
   "cell_type": "code",
   "execution_count": 10,
   "metadata": {},
   "outputs": [
    {
     "data": {
      "image/png": "[encoded data removed]",
      "text/plain": [
       "<Figure size 576x396 with 2 Axes>"
      ]
     },
     "metadata": {},
     "output_type": "display_data"
    }
   ],
   "source": [
    "analyser.plot_results()"
   ]
  },
  {
   "cell_type": "markdown",
   "metadata": {},
   "source": [
    "### Accuracy and Fairness on test data"
   ]
  },
  {
   "cell_type": "markdown",
   "metadata": {},
   "source": [
    "__[Model 1]: Best Accuracy__"
   ]
  },
  {
   "cell_type": "code",
   "execution_count": 11,
   "metadata": {},
   "outputs": [
    {
     "name": "stdout",
     "output_type": "stream",
     "text": [
      "[Best accuracy] Accuracy on test set: 0.8042039172865625\n",
      "[Best accuracy] Fairness (True Positive Rate Difference) on test set: -0.4414141414141414\n"
     ]
    }
   ],
   "source": [
    "# Best accuracy\n",
    "test_accuracy = analysis['best_accuracy_model'].get_accuracy(X_test, y_test)\n",
    "test_fairness = analysis['best_accuracy_model'].get_fairness(selected_dataset.dataset_orig_test)\n",
    "\n",
    "print(\"[Best accuracy] Accuracy on test set: \" + str(test_accuracy))\n",
    "print(\"[Best accuracy] Fairness (True Positive Rate Difference) on test set: \" + str(test_fairness['eq_opp_diff']))"
   ]
  },
  {
   "cell_type": "markdown",
   "metadata": {},
   "source": [
    "__[Model 2]: Best Fairness__"
   ]
  },
  {
   "cell_type": "code",
   "execution_count": 12,
   "metadata": {},
   "outputs": [
    {
     "name": "stdout",
     "output_type": "stream",
     "text": [
      "[Best fairness] Accuracy on test set: 0.7984030573943902\n",
      "[Best fairness] Fairness (True Positive Rate Difference) on test set: -0.2472160630697216\n"
     ]
    }
   ],
   "source": [
    "# Best fairness\n",
    "test_accuracy = analysis['best_fairness_model'].get_accuracy(X_test, y_test)\n",
    "test_fairness = analysis['best_fairness_model'].get_fairness(selected_dataset.dataset_orig_test)\n",
    "\n",
    "print(\"[Best fairness] Accuracy on test set: \" + str(test_accuracy))\n",
    "print(\"[Best fairness] Fairness (True Positive Rate Difference) on test set: \" + str(test_fairness['eq_opp_diff']))"
   ]
  },
  {
   "cell_type": "markdown",
   "metadata": {},
   "source": [
    "## Task 2: Fairness Based Model"
   ]
  },
  {
   "cell_type": "markdown",
   "metadata": {},
   "source": [
    "### Bias mitigation using reweighing"
   ]
  },
  {
   "cell_type": "code",
   "execution_count": 13,
   "metadata": {},
   "outputs": [
    {
     "name": "stdout",
     "output_type": "stream",
     "text": [
      "Mitigation: Reweighing complete\n"
     ]
    }
   ],
   "source": [
    "selected_dataset.dataset_orig_train = selected_dataset.mitigate_bias(method=\"reweighing\", dataset=selected_dataset.dataset_orig_train)"
   ]
  },
  {
   "cell_type": "code",
   "execution_count": 14,
   "metadata": {},
   "outputs": [
    {
     "name": "stdout",
     "output_type": "stream",
     "text": [
      "Best accuracy: 3\n",
      "Best fairness: 0\n",
      "Best accuracy+fairness: None\n"
     ]
    }
   ],
   "source": [
    "analyser = Analysis(dataset=selected_dataset, C_values=C_values, solver=\"liblinear\", params={\"penalty\": \"l2\"}, mitigated=True)\n",
    "analysis = analyser.run()"
   ]
  },
  {
   "cell_type": "code",
   "execution_count": 15,
   "metadata": {},
   "outputs": [
    {
     "name": "stdout",
     "output_type": "stream",
     "text": [
      "Results after mitigation:\n"
     ]
    },
    {
     "data": {
      "text/html": [
       "<div>\n",
       "<style scoped>\n",
       "    .dataframe tbody tr th:only-of-type {\n",
       "        vertical-align: middle;\n",
       "    }\n",
       "\n",
       "    .dataframe tbody tr th {\n",
       "        vertical-align: top;\n",
       "    }\n",
       "\n",
       "    .dataframe thead th {\n",
       "        text-align: right;\n",
       "    }\n",
       "</style>\n",
       "<table border=\"1\" class=\"dataframe\">\n",
       "  <thead>\n",
       "    <tr style=\"text-align: right;\">\n",
       "      <th></th>\n",
       "      <th>model</th>\n",
       "      <th>accuracy</th>\n",
       "      <th>accuracy_std</th>\n",
       "      <th>fairness</th>\n",
       "    </tr>\n",
       "  </thead>\n",
       "  <tbody>\n",
       "    <tr>\n",
       "      <th>0</th>\n",
       "      <td>0.0001</td>\n",
       "      <td>0.797216</td>\n",
       "      <td>0.005006</td>\n",
       "      <td>-0.009967</td>\n",
       "    </tr>\n",
       "    <tr>\n",
       "      <th>1</th>\n",
       "      <td>0.0010</td>\n",
       "      <td>0.803387</td>\n",
       "      <td>0.004469</td>\n",
       "      <td>-0.009967</td>\n",
       "    </tr>\n",
       "    <tr>\n",
       "      <th>2</th>\n",
       "      <td>0.0100</td>\n",
       "      <td>0.803914</td>\n",
       "      <td>0.004465</td>\n",
       "      <td>-0.009967</td>\n",
       "    </tr>\n",
       "    <tr>\n",
       "      <th>3</th>\n",
       "      <td>0.1000</td>\n",
       "      <td>0.804001</td>\n",
       "      <td>0.004340</td>\n",
       "      <td>-0.009967</td>\n",
       "    </tr>\n",
       "    <tr>\n",
       "      <th>4</th>\n",
       "      <td>1.0000</td>\n",
       "      <td>0.804001</td>\n",
       "      <td>0.004340</td>\n",
       "      <td>-0.009967</td>\n",
       "    </tr>\n",
       "  </tbody>\n",
       "</table>\n",
       "</div>"
      ],
      "text/plain": [
       "    model  accuracy  accuracy_std  fairness\n",
       "0  0.0001  0.797216      0.005006 -0.009967\n",
       "1  0.0010  0.803387      0.004469 -0.009967\n",
       "2  0.0100  0.803914      0.004465 -0.009967\n",
       "3  0.1000  0.804001      0.004340 -0.009967\n",
       "4  1.0000  0.804001      0.004340 -0.009967"
      ]
     },
     "execution_count": 15,
     "metadata": {},
     "output_type": "execute_result"
    }
   ],
   "source": [
    "print(\"Results after mitigation:\")\n",
    "analysis['data_frame']"
   ]
  },
  {
   "cell_type": "markdown",
   "metadata": {},
   "source": [
    "### Accuracy and Fairness on test data"
   ]
  },
  {
   "cell_type": "markdown",
   "metadata": {},
   "source": [
    "__[Model 3]: Best Accuracy__"
   ]
  },
  {
   "cell_type": "code",
   "execution_count": 16,
   "metadata": {},
   "outputs": [
    {
     "name": "stdout",
     "output_type": "stream",
     "text": [
      "[Best accuracy] Accuracy on test set: 0.7905548351873336\n",
      "[Best accuracy] Fairness (True Positive Rate Difference) on test set: 0.03513180586351322\n"
     ]
    }
   ],
   "source": [
    "# Best accuracy\n",
    "test_accuracy = analysis['best_accuracy_model'].get_accuracy(X_test, y_test)\n",
    "test_fairness = analysis['best_accuracy_model'].get_fairness(selected_dataset.dataset_orig_test)\n",
    "\n",
    "print(\"[Best accuracy] Accuracy on test set: \" + str(test_accuracy))\n",
    "print(\"[Best accuracy] Fairness (True Positive Rate Difference) on test set: \" + str(test_fairness['eq_opp_diff']))\n"
   ]
  },
  {
   "cell_type": "markdown",
   "metadata": {},
   "source": [
    "__[Model 4]: Best Fairness__"
   ]
  },
  {
   "cell_type": "code",
   "execution_count": 17,
   "metadata": {},
   "outputs": [
    {
     "name": "stdout",
     "output_type": "stream",
     "text": [
      "[Best fairness] Accuracy on test set: 0.7905548351873336\n",
      "[Best fairness] Fairness (True Positive Rate Difference) on test set: 0.03513180586351322\n"
     ]
    }
   ],
   "source": [
    "# Best fairness\n",
    "test_accuracy = analysis['best_fairness_model'].get_accuracy(X_test, y_test)\n",
    "test_fairness = analysis['best_fairness_model'].get_fairness(selected_dataset.dataset_orig_test)\n",
    "\n",
    "print(\"[Best fairness] Accuracy on test set: \" + str(test_accuracy))\n",
    "print(\"[Best fairness] Fairness (True Positive Rate Difference) on test set: \" + str(test_fairness['eq_opp_diff']))"
   ]
  },
  {
   "cell_type": "code",
   "execution_count": 18,
   "metadata": {},
   "outputs": [
    {
     "data": {
      "image/png": "[encoded data removed]",
      "text/plain": [
       "<Figure size 576x396 with 2 Axes>"
      ]
     },
     "metadata": {},
     "output_type": "display_data"
    }
   ],
   "source": [
    "analyser.plot_results()"
   ]
  },
  {
   "cell_type": "markdown",
   "metadata": {},
   "source": [
    "## Task 3: Accuracy + Fairness Based Model"
   ]
  },
  {
   "cell_type": "markdown",
   "metadata": {},
   "source": [
    "### Machine-Learning based model using accuracy+fairness criterion"
   ]
  },
  {
   "cell_type": "code",
   "execution_count": 19,
   "metadata": {},
   "outputs": [
    {
     "name": "stdout",
     "output_type": "stream",
     "text": [
      "Best accuracy: 3\n",
      "Best fairness: 0\n",
      "Best accuracy+fairness: 0\n"
     ]
    }
   ],
   "source": [
    "analyser = Analysis(dataset=selected_dataset, C_values=C_values, solver=\"liblinear\", params={\"penalty\": \"l2\"}, mitigated=False, include_delta=True)\n",
    "analysis = analyser.run()"
   ]
  },
  {
   "cell_type": "code",
   "execution_count": 20,
   "metadata": {},
   "outputs": [
    {
     "data": {
      "text/html": [
       "<div>\n",
       "<style scoped>\n",
       "    .dataframe tbody tr th:only-of-type {\n",
       "        vertical-align: middle;\n",
       "    }\n",
       "\n",
       "    .dataframe tbody tr th {\n",
       "        vertical-align: top;\n",
       "    }\n",
       "\n",
       "    .dataframe thead th {\n",
       "        text-align: right;\n",
       "    }\n",
       "</style>\n",
       "<table border=\"1\" class=\"dataframe\">\n",
       "  <thead>\n",
       "    <tr style=\"text-align: right;\">\n",
       "      <th></th>\n",
       "      <th>model</th>\n",
       "      <th>accuracy</th>\n",
       "      <th>accuracy_std</th>\n",
       "      <th>fairness</th>\n",
       "      <th>accuracy+fairness</th>\n",
       "    </tr>\n",
       "  </thead>\n",
       "  <tbody>\n",
       "    <tr>\n",
       "      <th>0</th>\n",
       "      <td>0.0001</td>\n",
       "      <td>0.797216</td>\n",
       "      <td>0.005006</td>\n",
       "      <td>-0.242389</td>\n",
       "      <td>1.039605</td>\n",
       "    </tr>\n",
       "    <tr>\n",
       "      <th>1</th>\n",
       "      <td>0.0010</td>\n",
       "      <td>0.803387</td>\n",
       "      <td>0.004469</td>\n",
       "      <td>-0.454879</td>\n",
       "      <td>1.258646</td>\n",
       "    </tr>\n",
       "    <tr>\n",
       "      <th>2</th>\n",
       "      <td>0.0100</td>\n",
       "      <td>0.803914</td>\n",
       "      <td>0.004465</td>\n",
       "      <td>-0.462947</td>\n",
       "      <td>1.267241</td>\n",
       "    </tr>\n",
       "    <tr>\n",
       "      <th>3</th>\n",
       "      <td>0.1000</td>\n",
       "      <td>0.804001</td>\n",
       "      <td>0.004340</td>\n",
       "      <td>-0.464784</td>\n",
       "      <td>1.269078</td>\n",
       "    </tr>\n",
       "    <tr>\n",
       "      <th>4</th>\n",
       "      <td>1.0000</td>\n",
       "      <td>0.804001</td>\n",
       "      <td>0.004340</td>\n",
       "      <td>-0.464784</td>\n",
       "      <td>1.269078</td>\n",
       "    </tr>\n",
       "  </tbody>\n",
       "</table>\n",
       "</div>"
      ],
      "text/plain": [
       "    model  accuracy  accuracy_std  fairness  accuracy+fairness\n",
       "0  0.0001  0.797216      0.005006 -0.242389           1.039605\n",
       "1  0.0010  0.803387      0.004469 -0.454879           1.258646\n",
       "2  0.0100  0.803914      0.004465 -0.462947           1.267241\n",
       "3  0.1000  0.804001      0.004340 -0.464784           1.269078\n",
       "4  1.0000  0.804001      0.004340 -0.464784           1.269078"
      ]
     },
     "execution_count": 20,
     "metadata": {},
     "output_type": "execute_result"
    }
   ],
   "source": [
    "analysis['data_frame']"
   ]
  },
  {
   "cell_type": "code",
   "execution_count": 21,
   "metadata": {},
   "outputs": [
    {
     "data": {
      "image/png": "[encoded data removed]",
      "text/plain": [
       "<Figure size 576x396 with 1 Axes>"
      ]
     },
     "metadata": {},
     "output_type": "display_data"
    }
   ],
   "source": [
    "analyser.plot_results(type=\"accuracy+fairness\")"
   ]
  },
  {
   "cell_type": "markdown",
   "metadata": {},
   "source": [
    "### Accuracy and Fairness on test data"
   ]
  },
  {
   "cell_type": "markdown",
   "metadata": {},
   "source": [
    "__[Model 5]: Best Accuracy__"
   ]
  },
  {
   "cell_type": "code",
   "execution_count": 22,
   "metadata": {},
   "outputs": [
    {
     "name": "stdout",
     "output_type": "stream",
     "text": [
      "Accuracy on test set: 0.7984030573943902\n",
      "Fairness (True Positive Rate Difference) on test set: -0.2472160630697216\n"
     ]
    }
   ],
   "source": [
    "# Best accuracy+fairness\n",
    "test_accuracy = analysis['best_accuracy_fairness_model'].get_accuracy(X_test, y_test)\n",
    "test_fairness = analysis['best_accuracy_fairness_model'].get_fairness(selected_dataset.dataset_orig_test)\n",
    "\n",
    "print(\"Accuracy on test set: \" + str(test_accuracy))\n",
    "print(\"Fairness (True Positive Rate Difference) on test set: \" + str(test_fairness['eq_opp_diff']))\n"
   ]
  },
  {
   "cell_type": "markdown",
   "metadata": {},
   "source": [
    "### Fairness based model using accuracy+fairness criterion"
   ]
  },
  {
   "cell_type": "code",
   "execution_count": 23,
   "metadata": {},
   "outputs": [
    {
     "name": "stdout",
     "output_type": "stream",
     "text": [
      "Best accuracy: 3\n",
      "Best fairness: 0\n",
      "Best accuracy+fairness: 0\n"
     ]
    }
   ],
   "source": [
    "analyser = Analysis(dataset=selected_dataset, C_values=C_values, solver=\"liblinear\", params={\"penalty\": \"l2\"}, mitigated=True, include_delta=True)\n",
    "analysis = analyser.run()"
   ]
  },
  {
   "cell_type": "code",
   "execution_count": 24,
   "metadata": {},
   "outputs": [
    {
     "data": {
      "text/html": [
       "<div>\n",
       "<style scoped>\n",
       "    .dataframe tbody tr th:only-of-type {\n",
       "        vertical-align: middle;\n",
       "    }\n",
       "\n",
       "    .dataframe tbody tr th {\n",
       "        vertical-align: top;\n",
       "    }\n",
       "\n",
       "    .dataframe thead th {\n",
       "        text-align: right;\n",
       "    }\n",
       "</style>\n",
       "<table border=\"1\" class=\"dataframe\">\n",
       "  <thead>\n",
       "    <tr style=\"text-align: right;\">\n",
       "      <th></th>\n",
       "      <th>model</th>\n",
       "      <th>accuracy</th>\n",
       "      <th>accuracy_std</th>\n",
       "      <th>fairness</th>\n",
       "      <th>accuracy+fairness</th>\n",
       "    </tr>\n",
       "  </thead>\n",
       "  <tbody>\n",
       "    <tr>\n",
       "      <th>0</th>\n",
       "      <td>0.0001</td>\n",
       "      <td>0.797216</td>\n",
       "      <td>0.005006</td>\n",
       "      <td>-0.009967</td>\n",
       "      <td>0.799666</td>\n",
       "    </tr>\n",
       "    <tr>\n",
       "      <th>1</th>\n",
       "      <td>0.0010</td>\n",
       "      <td>0.803387</td>\n",
       "      <td>0.004469</td>\n",
       "      <td>-0.009967</td>\n",
       "      <td>0.799666</td>\n",
       "    </tr>\n",
       "    <tr>\n",
       "      <th>2</th>\n",
       "      <td>0.0100</td>\n",
       "      <td>0.803914</td>\n",
       "      <td>0.004465</td>\n",
       "      <td>-0.009967</td>\n",
       "      <td>0.799666</td>\n",
       "    </tr>\n",
       "    <tr>\n",
       "      <th>3</th>\n",
       "      <td>0.1000</td>\n",
       "      <td>0.804001</td>\n",
       "      <td>0.004340</td>\n",
       "      <td>-0.009967</td>\n",
       "      <td>0.799666</td>\n",
       "    </tr>\n",
       "    <tr>\n",
       "      <th>4</th>\n",
       "      <td>1.0000</td>\n",
       "      <td>0.804001</td>\n",
       "      <td>0.004340</td>\n",
       "      <td>-0.009967</td>\n",
       "      <td>0.799666</td>\n",
       "    </tr>\n",
       "  </tbody>\n",
       "</table>\n",
       "</div>"
      ],
      "text/plain": [
       "    model  accuracy  accuracy_std  fairness  accuracy+fairness\n",
       "0  0.0001  0.797216      0.005006 -0.009967           0.799666\n",
       "1  0.0010  0.803387      0.004469 -0.009967           0.799666\n",
       "2  0.0100  0.803914      0.004465 -0.009967           0.799666\n",
       "3  0.1000  0.804001      0.004340 -0.009967           0.799666\n",
       "4  1.0000  0.804001      0.004340 -0.009967           0.799666"
      ]
     },
     "execution_count": 24,
     "metadata": {},
     "output_type": "execute_result"
    }
   ],
   "source": [
    "analysis['data_frame']"
   ]
  },
  {
   "cell_type": "code",
   "execution_count": 25,
   "metadata": {},
   "outputs": [
    {
     "data": {
      "image/png": "[encoded data removed]",
      "text/plain": [
       "<Figure size 576x396 with 1 Axes>"
      ]
     },
     "metadata": {},
     "output_type": "display_data"
    }
   ],
   "source": [
    "analyser.plot_results(type=\"accuracy+fairness\")"
   ]
  },
  {
   "cell_type": "markdown",
   "metadata": {},
   "source": [
    "### Accuracy and Fairness on test data"
   ]
  },
  {
   "cell_type": "markdown",
   "metadata": {},
   "source": [
    "__[Model 6]: Best Fairness__"
   ]
  },
  {
   "cell_type": "code",
   "execution_count": 26,
   "metadata": {},
   "outputs": [
    {
     "name": "stdout",
     "output_type": "stream",
     "text": [
      "Accuracy on test set: 0.7905548351873336\n",
      "Fairness (True Positive Rate Difference) on test set: 0.03513180586351322\n"
     ]
    }
   ],
   "source": [
    "# Best accuracy+fairness\n",
    "test_accuracy = analysis['best_accuracy_fairness_model'].get_accuracy(X_test, y_test)\n",
    "test_fairness = analysis['best_accuracy_fairness_model'].get_fairness(selected_dataset.dataset_orig_test)\n",
    "\n",
    "print(\"Accuracy on test set: \" + str(test_accuracy))\n",
    "print(\"Fairness (True Positive Rate Difference) on test set: \" + str(test_fairness['eq_opp_diff']))\n"
   ]
  },
  {
   "cell_type": "markdown",
   "metadata": {},
   "source": [
    "______________________________________________________________________________________________________________________________________________________________"
   ]
  },
  {
   "cell_type": "markdown",
   "metadata": {},
   "source": [
    "______________________________________________________________________________________________________________________________________________________________"
   ]
  },
  {
   "cell_type": "markdown",
   "metadata": {},
   "source": [
    "______________________________________________________________________________________________________________________________________________________________"
   ]
  },
  {
   "cell_type": "markdown",
   "metadata": {},
   "source": [
    "# German Census Dataset"
   ]
  },
  {
   "cell_type": "code",
   "execution_count": 27,
   "metadata": {},
   "outputs": [],
   "source": [
    "selected_dataset = german_ds\n",
    "X_train, y_train, X_test, y_test = selected_dataset.get_data()"
   ]
  },
  {
   "cell_type": "markdown",
   "metadata": {},
   "source": [
    "## Running through Solvers and Penalties"
   ]
  },
  {
   "cell_type": "code",
   "execution_count": 28,
   "metadata": {},
   "outputs": [],
   "source": [
    "models = [{'solver': \"saga\", \"params\":{'penalty': \"l2\", 'C': 1, 'max_iter': 1000, 'tol': 1e-4}},\n",
    "          {'solver': \"saga\", \"params\":{'penalty': \"l1\", 'C': 1, 'max_iter': 1000, 'tol': 1e-4}},\n",
    "          {'solver': \"saga\", \"params\":{'penalty': \"elasticnet\", 'C': 1, 'max_iter': 1000, 'tol': 1e-4, 'l1_ratio': 0.5}},\n",
    "          {'solver': \"saga\", \"params\":{'penalty': \"none\"}},\n",
    "          {'solver': \"sag\", \"params\":{'penalty': \"l2\", 'C': 1, 'max_iter': 1000, 'tol': 1e-4}},\n",
    "          {'solver': \"sag\", \"params\":{'penalty': \"none\"}},\n",
    "          {'solver': \"liblinear\", \"params\":{'penalty': \"l1\", 'C': 1, 'max_iter': 1000, 'tol': 1e-4}},\n",
    "          {'solver': \"liblinear\", \"params\":{'penalty': \"l2\", 'C': 1, 'max_iter': 1000, 'tol': 1e-4}},\n",
    "          {'solver': \"lbfgs\", \"params\":{'penalty': \"l2\", 'C': 1, 'max_iter': 1000, 'tol': 1e-4}},\n",
    "          {'solver': \"lbfgs\", \"params\":{'penalty': \"none\"}},\n",
    "          {'solver': \"newton-cg\", \"params\":{'penalty': \"l2\", 'C': 1, 'max_iter': 1000, 'tol': 1e-4}},\n",
    "          {'solver': \"newton-cg\", \"params\":{'penalty': \"none\"}}]"
   ]
  },
  {
   "cell_type": "code",
   "execution_count": 29,
   "metadata": {},
   "outputs": [
    {
     "name": "stdout",
     "output_type": "stream",
     "text": [
      "Running model: LogisticRegressionClassifier solver saga with l2 regularization\n",
      "Running model: LogisticRegressionClassifier solver saga with l1 regularization\n",
      "Running model: LogisticRegressionClassifier solver saga with elasticnet regularization\n",
      "Running model: LogisticRegressionClassifier solver saga with none regularization\n",
      "Running model: LogisticRegressionClassifier solver sag with l2 regularization\n",
      "Running model: LogisticRegressionClassifier solver sag with none regularization\n",
      "Running model: LogisticRegressionClassifier solver liblinear with l1 regularization\n",
      "Running model: LogisticRegressionClassifier solver liblinear with l2 regularization\n",
      "Running model: LogisticRegressionClassifier solver lbfgs with l2 regularization\n",
      "Running model: LogisticRegressionClassifier solver lbfgs with none regularization\n",
      "Running model: LogisticRegressionClassifier solver newton-cg with l2 regularization\n",
      "Running model: LogisticRegressionClassifier solver newton-cg with none regularization\n"
     ]
    }
   ],
   "source": [
    "results = []\n",
    "\n",
    "for model in models:\n",
    "    clf = LogisticRegressionClassifier(verbose=False, dataset=selected_dataset, solver=model['solver'], params=model['params'], privileged_groups=selected_dataset.privileged_groups, unprivileged_groups=selected_dataset.unprivileged_groups)\n",
    "    print(\"Running model: \" + str(clf.__class__.__name__) + \" solver \" + model['solver'] + \" with \" + str(model['params']['penalty']) + \" regularization\")\n",
    "    results.append((model['solver'] + \"_\" + str(model['params']['penalty']), *clf.run(selected_dataset)))\n"
   ]
  },
  {
   "cell_type": "code",
   "execution_count": 30,
   "metadata": {},
   "outputs": [
    {
     "data": {
      "text/html": [
       "<div>\n",
       "<style scoped>\n",
       "    .dataframe tbody tr th:only-of-type {\n",
       "        vertical-align: middle;\n",
       "    }\n",
       "\n",
       "    .dataframe tbody tr th {\n",
       "        vertical-align: top;\n",
       "    }\n",
       "\n",
       "    .dataframe thead th {\n",
       "        text-align: right;\n",
       "    }\n",
       "</style>\n",
       "<table border=\"1\" class=\"dataframe\">\n",
       "  <thead>\n",
       "    <tr style=\"text-align: right;\">\n",
       "      <th></th>\n",
       "      <th>model</th>\n",
       "      <th>accuracy</th>\n",
       "      <th>std</th>\n",
       "      <th>fairness_metric</th>\n",
       "    </tr>\n",
       "  </thead>\n",
       "  <tbody>\n",
       "    <tr>\n",
       "      <th>0</th>\n",
       "      <td>saga_l2</td>\n",
       "      <td>0.692857</td>\n",
       "      <td>0.031623</td>\n",
       "      <td>-0.133386</td>\n",
       "    </tr>\n",
       "    <tr>\n",
       "      <th>2</th>\n",
       "      <td>saga_elasticnet</td>\n",
       "      <td>0.692857</td>\n",
       "      <td>0.031623</td>\n",
       "      <td>-0.133386</td>\n",
       "    </tr>\n",
       "    <tr>\n",
       "      <th>3</th>\n",
       "      <td>saga_none</td>\n",
       "      <td>0.692857</td>\n",
       "      <td>0.031623</td>\n",
       "      <td>-0.133386</td>\n",
       "    </tr>\n",
       "    <tr>\n",
       "      <th>4</th>\n",
       "      <td>sag_l2</td>\n",
       "      <td>0.692857</td>\n",
       "      <td>0.031623</td>\n",
       "      <td>-0.133386</td>\n",
       "    </tr>\n",
       "    <tr>\n",
       "      <th>5</th>\n",
       "      <td>sag_none</td>\n",
       "      <td>0.692857</td>\n",
       "      <td>0.031623</td>\n",
       "      <td>-0.133386</td>\n",
       "    </tr>\n",
       "    <tr>\n",
       "      <th>7</th>\n",
       "      <td>liblinear_l2</td>\n",
       "      <td>0.692857</td>\n",
       "      <td>0.031623</td>\n",
       "      <td>-0.133386</td>\n",
       "    </tr>\n",
       "    <tr>\n",
       "      <th>8</th>\n",
       "      <td>lbfgs_l2</td>\n",
       "      <td>0.692857</td>\n",
       "      <td>0.031623</td>\n",
       "      <td>-0.133386</td>\n",
       "    </tr>\n",
       "    <tr>\n",
       "      <th>9</th>\n",
       "      <td>lbfgs_none</td>\n",
       "      <td>0.692857</td>\n",
       "      <td>0.031623</td>\n",
       "      <td>-0.133386</td>\n",
       "    </tr>\n",
       "    <tr>\n",
       "      <th>10</th>\n",
       "      <td>newton-cg_l2</td>\n",
       "      <td>0.692857</td>\n",
       "      <td>0.031623</td>\n",
       "      <td>-0.133386</td>\n",
       "    </tr>\n",
       "    <tr>\n",
       "      <th>11</th>\n",
       "      <td>newton-cg_none</td>\n",
       "      <td>0.692857</td>\n",
       "      <td>0.031623</td>\n",
       "      <td>-0.133386</td>\n",
       "    </tr>\n",
       "    <tr>\n",
       "      <th>1</th>\n",
       "      <td>saga_l1</td>\n",
       "      <td>0.690000</td>\n",
       "      <td>0.026573</td>\n",
       "      <td>-0.144980</td>\n",
       "    </tr>\n",
       "    <tr>\n",
       "      <th>6</th>\n",
       "      <td>liblinear_l1</td>\n",
       "      <td>0.690000</td>\n",
       "      <td>0.026573</td>\n",
       "      <td>-0.144980</td>\n",
       "    </tr>\n",
       "  </tbody>\n",
       "</table>\n",
       "</div>"
      ],
      "text/plain": [
       "              model  accuracy       std  fairness_metric\n",
       "0           saga_l2  0.692857  0.031623        -0.133386\n",
       "2   saga_elasticnet  0.692857  0.031623        -0.133386\n",
       "3         saga_none  0.692857  0.031623        -0.133386\n",
       "4            sag_l2  0.692857  0.031623        -0.133386\n",
       "5          sag_none  0.692857  0.031623        -0.133386\n",
       "7      liblinear_l2  0.692857  0.031623        -0.133386\n",
       "8          lbfgs_l2  0.692857  0.031623        -0.133386\n",
       "9        lbfgs_none  0.692857  0.031623        -0.133386\n",
       "10     newton-cg_l2  0.692857  0.031623        -0.133386\n",
       "11   newton-cg_none  0.692857  0.031623        -0.133386\n",
       "1           saga_l1  0.690000  0.026573        -0.144980\n",
       "6      liblinear_l1  0.690000  0.026573        -0.144980"
      ]
     },
     "execution_count": 30,
     "metadata": {},
     "output_type": "execute_result"
    }
   ],
   "source": [
    "\n",
    "# display results\n",
    "df = pd.DataFrame(results, columns=['model', 'accuracy', 'std', 'fairness_metric'])\n",
    "df = df.sort_values(by=['accuracy'], ascending=False) # sort by accuracy\n",
    "\n",
    "# show\n",
    "df"
   ]
  },
  {
   "cell_type": "markdown",
   "metadata": {},
   "source": [
    "## Task 1: Machine Learning Based Model\n"
   ]
  },
  {
   "cell_type": "markdown",
   "metadata": {},
   "source": [
    "### Hyperparameter search over C (Lambda)\n",
    "\n",
    "- Solver: liblinear\n",
    "- Dataset: \"Adult | German\"\n",
    "- C: 0.0001 to 0.1\n",
    "- Penalty: l2"
   ]
  },
  {
   "cell_type": "code",
   "execution_count": 31,
   "metadata": {},
   "outputs": [
    {
     "name": "stdout",
     "output_type": "stream",
     "text": [
      "Best accuracy: 3\n",
      "Best fairness: 4\n",
      "Best accuracy+fairness: None\n"
     ]
    }
   ],
   "source": [
    "analyser = Analysis(dataset=selected_dataset, C_values=C_values, solver=\"liblinear\", params={\"penalty\": \"l2\"}, mitigated=False)\n",
    "analysis = analyser.run()"
   ]
  },
  {
   "cell_type": "code",
   "execution_count": 32,
   "metadata": {},
   "outputs": [
    {
     "data": {
      "text/html": [
       "<div>\n",
       "<style scoped>\n",
       "    .dataframe tbody tr th:only-of-type {\n",
       "        vertical-align: middle;\n",
       "    }\n",
       "\n",
       "    .dataframe tbody tr th {\n",
       "        vertical-align: top;\n",
       "    }\n",
       "\n",
       "    .dataframe thead th {\n",
       "        text-align: right;\n",
       "    }\n",
       "</style>\n",
       "<table border=\"1\" class=\"dataframe\">\n",
       "  <thead>\n",
       "    <tr style=\"text-align: right;\">\n",
       "      <th></th>\n",
       "      <th>model</th>\n",
       "      <th>accuracy</th>\n",
       "      <th>accuracy_std</th>\n",
       "      <th>fairness</th>\n",
       "    </tr>\n",
       "  </thead>\n",
       "  <tbody>\n",
       "    <tr>\n",
       "      <th>0</th>\n",
       "      <td>0.0001</td>\n",
       "      <td>0.655714</td>\n",
       "      <td>0.023647</td>\n",
       "      <td>-0.157834</td>\n",
       "    </tr>\n",
       "    <tr>\n",
       "      <th>1</th>\n",
       "      <td>0.0010</td>\n",
       "      <td>0.660000</td>\n",
       "      <td>0.024578</td>\n",
       "      <td>-0.238396</td>\n",
       "    </tr>\n",
       "    <tr>\n",
       "      <th>2</th>\n",
       "      <td>0.0100</td>\n",
       "      <td>0.687143</td>\n",
       "      <td>0.029067</td>\n",
       "      <td>-0.294951</td>\n",
       "    </tr>\n",
       "    <tr>\n",
       "      <th>3</th>\n",
       "      <td>0.1000</td>\n",
       "      <td>0.695714</td>\n",
       "      <td>0.029485</td>\n",
       "      <td>-0.139268</td>\n",
       "    </tr>\n",
       "    <tr>\n",
       "      <th>4</th>\n",
       "      <td>1.0000</td>\n",
       "      <td>0.692857</td>\n",
       "      <td>0.031623</td>\n",
       "      <td>-0.133386</td>\n",
       "    </tr>\n",
       "  </tbody>\n",
       "</table>\n",
       "</div>"
      ],
      "text/plain": [
       "    model  accuracy  accuracy_std  fairness\n",
       "0  0.0001  0.655714      0.023647 -0.157834\n",
       "1  0.0010  0.660000      0.024578 -0.238396\n",
       "2  0.0100  0.687143      0.029067 -0.294951\n",
       "3  0.1000  0.695714      0.029485 -0.139268\n",
       "4  1.0000  0.692857      0.031623 -0.133386"
      ]
     },
     "execution_count": 32,
     "metadata": {},
     "output_type": "execute_result"
    }
   ],
   "source": [
    "analysis['data_frame']"
   ]
  },
  {
   "cell_type": "code",
   "execution_count": 33,
   "metadata": {},
   "outputs": [
    {
     "data": {
      "image/png": "[encoded data removed]",
      "text/plain": [
       "<Figure size 576x396 with 2 Axes>"
      ]
     },
     "metadata": {},
     "output_type": "display_data"
    }
   ],
   "source": [
    "analyser.plot_results()"
   ]
  },
  {
   "cell_type": "markdown",
   "metadata": {},
   "source": [
    "### Accuracy and Fairness on test data"
   ]
  },
  {
   "cell_type": "markdown",
   "metadata": {},
   "source": [
    "__[Model 1]: Best Accuracy__"
   ]
  },
  {
   "cell_type": "code",
   "execution_count": 34,
   "metadata": {},
   "outputs": [
    {
     "name": "stdout",
     "output_type": "stream",
     "text": [
      "[Best accuracy] Accuracy on test set: 0.67\n",
      "[Best accuracy] Fairness (True Positive Rate Difference) on test set: -0.26812499999999995\n"
     ]
    }
   ],
   "source": [
    "# Best accuracy\n",
    "test_accuracy = analysis['best_accuracy_model'].get_accuracy(X_test, y_test)\n",
    "test_fairness = analysis['best_accuracy_model'].get_fairness(selected_dataset.dataset_orig_test)\n",
    "\n",
    "print(\"[Best accuracy] Accuracy on test set: \" + str(test_accuracy))\n",
    "print(\"[Best accuracy] Fairness (True Positive Rate Difference) on test set: \" + str(test_fairness['eq_opp_diff']))"
   ]
  },
  {
   "cell_type": "markdown",
   "metadata": {},
   "source": [
    "__[Model 2]: Best Fairness__"
   ]
  },
  {
   "cell_type": "code",
   "execution_count": 35,
   "metadata": {},
   "outputs": [
    {
     "name": "stdout",
     "output_type": "stream",
     "text": [
      "[Best fairness] Accuracy on test set: 0.7\n",
      "[Best fairness] Fairness (True Positive Rate Difference) on test set: -0.06499999999999995\n"
     ]
    }
   ],
   "source": [
    "# Best fairness\n",
    "test_accuracy = analysis['best_fairness_model'].get_accuracy(X_test, y_test)\n",
    "test_fairness = analysis['best_fairness_model'].get_fairness(selected_dataset.dataset_orig_test)\n",
    "\n",
    "print(\"[Best fairness] Accuracy on test set: \" + str(test_accuracy))\n",
    "print(\"[Best fairness] Fairness (True Positive Rate Difference) on test set: \" + str(test_fairness['eq_opp_diff']))"
   ]
  },
  {
   "cell_type": "markdown",
   "metadata": {},
   "source": [
    "## Task 2: Fairness Based Model"
   ]
  },
  {
   "cell_type": "markdown",
   "metadata": {},
   "source": [
    "### Bias mitigation using reweighing"
   ]
  },
  {
   "cell_type": "code",
   "execution_count": 36,
   "metadata": {},
   "outputs": [
    {
     "name": "stdout",
     "output_type": "stream",
     "text": [
      "Mitigation: Reweighing complete\n"
     ]
    }
   ],
   "source": [
    "selected_dataset.dataset_orig_train = selected_dataset.mitigate_bias(method=\"reweighing\", dataset=selected_dataset.dataset_orig_train)"
   ]
  },
  {
   "cell_type": "code",
   "execution_count": 37,
   "metadata": {},
   "outputs": [
    {
     "name": "stdout",
     "output_type": "stream",
     "text": [
      "Best accuracy: 3\n",
      "Best fairness: 3\n",
      "Best accuracy+fairness: None\n"
     ]
    }
   ],
   "source": [
    "analyser = Analysis(dataset=selected_dataset, C_values=C_values, solver=\"liblinear\", params={\"penalty\": \"l2\"}, mitigated=True)\n",
    "analysis = analyser.run()"
   ]
  },
  {
   "cell_type": "code",
   "execution_count": 38,
   "metadata": {},
   "outputs": [
    {
     "name": "stdout",
     "output_type": "stream",
     "text": [
      "Results after mitigation:\n"
     ]
    },
    {
     "data": {
      "text/html": [
       "<div>\n",
       "<style scoped>\n",
       "    .dataframe tbody tr th:only-of-type {\n",
       "        vertical-align: middle;\n",
       "    }\n",
       "\n",
       "    .dataframe tbody tr th {\n",
       "        vertical-align: top;\n",
       "    }\n",
       "\n",
       "    .dataframe thead th {\n",
       "        text-align: right;\n",
       "    }\n",
       "</style>\n",
       "<table border=\"1\" class=\"dataframe\">\n",
       "  <thead>\n",
       "    <tr style=\"text-align: right;\">\n",
       "      <th></th>\n",
       "      <th>model</th>\n",
       "      <th>accuracy</th>\n",
       "      <th>accuracy_std</th>\n",
       "      <th>fairness</th>\n",
       "    </tr>\n",
       "  </thead>\n",
       "  <tbody>\n",
       "    <tr>\n",
       "      <th>0</th>\n",
       "      <td>0.0001</td>\n",
       "      <td>0.655714</td>\n",
       "      <td>0.023647</td>\n",
       "      <td>-0.139876</td>\n",
       "    </tr>\n",
       "    <tr>\n",
       "      <th>1</th>\n",
       "      <td>0.0010</td>\n",
       "      <td>0.660000</td>\n",
       "      <td>0.024578</td>\n",
       "      <td>-0.103993</td>\n",
       "    </tr>\n",
       "    <tr>\n",
       "      <th>2</th>\n",
       "      <td>0.0100</td>\n",
       "      <td>0.687143</td>\n",
       "      <td>0.029067</td>\n",
       "      <td>-0.044911</td>\n",
       "    </tr>\n",
       "    <tr>\n",
       "      <th>3</th>\n",
       "      <td>0.1000</td>\n",
       "      <td>0.695714</td>\n",
       "      <td>0.029485</td>\n",
       "      <td>0.003592</td>\n",
       "    </tr>\n",
       "    <tr>\n",
       "      <th>4</th>\n",
       "      <td>1.0000</td>\n",
       "      <td>0.692857</td>\n",
       "      <td>0.031623</td>\n",
       "      <td>0.047363</td>\n",
       "    </tr>\n",
       "  </tbody>\n",
       "</table>\n",
       "</div>"
      ],
      "text/plain": [
       "    model  accuracy  accuracy_std  fairness\n",
       "0  0.0001  0.655714      0.023647 -0.139876\n",
       "1  0.0010  0.660000      0.024578 -0.103993\n",
       "2  0.0100  0.687143      0.029067 -0.044911\n",
       "3  0.1000  0.695714      0.029485  0.003592\n",
       "4  1.0000  0.692857      0.031623  0.047363"
      ]
     },
     "execution_count": 38,
     "metadata": {},
     "output_type": "execute_result"
    }
   ],
   "source": [
    "print(\"Results after mitigation:\")\n",
    "analysis['data_frame']"
   ]
  },
  {
   "cell_type": "markdown",
   "metadata": {},
   "source": [
    "### Accuracy and Fairness on test data"
   ]
  },
  {
   "cell_type": "markdown",
   "metadata": {},
   "source": [
    "__[Model 3]: Best Accuracy__"
   ]
  },
  {
   "cell_type": "code",
   "execution_count": 39,
   "metadata": {},
   "outputs": [
    {
     "name": "stdout",
     "output_type": "stream",
     "text": [
      "[Best accuracy] Accuracy on test set: 0.7066666666666667\n",
      "[Best accuracy] Fairness (True Positive Rate Difference) on test set: -0.018124999999999947\n"
     ]
    }
   ],
   "source": [
    "# Best accuracy\n",
    "test_accuracy = analysis['best_accuracy_model'].get_accuracy(X_test, y_test)\n",
    "test_fairness = analysis['best_accuracy_model'].get_fairness(selected_dataset.dataset_orig_test)\n",
    "\n",
    "print(\"[Best accuracy] Accuracy on test set: \" + str(test_accuracy))\n",
    "print(\"[Best accuracy] Fairness (True Positive Rate Difference) on test set: \" + str(test_fairness['eq_opp_diff']))\n"
   ]
  },
  {
   "cell_type": "markdown",
   "metadata": {},
   "source": [
    "__[Model 4]: Best Fairness__"
   ]
  },
  {
   "cell_type": "code",
   "execution_count": 40,
   "metadata": {},
   "outputs": [
    {
     "name": "stdout",
     "output_type": "stream",
     "text": [
      "[Best fairness] Accuracy on test set: 0.7066666666666667\n",
      "[Best fairness] Fairness (True Positive Rate Difference) on test set: -0.018124999999999947\n"
     ]
    }
   ],
   "source": [
    "# Best fairness\n",
    "test_accuracy = analysis['best_fairness_model'].get_accuracy(X_test, y_test)\n",
    "test_fairness = analysis['best_fairness_model'].get_fairness(selected_dataset.dataset_orig_test)\n",
    "\n",
    "print(\"[Best fairness] Accuracy on test set: \" + str(test_accuracy))\n",
    "print(\"[Best fairness] Fairness (True Positive Rate Difference) on test set: \" + str(test_fairness['eq_opp_diff']))"
   ]
  },
  {
   "cell_type": "code",
   "execution_count": 41,
   "metadata": {},
   "outputs": [
    {
     "data": {
      "image/png": "[encoded data removed]",
      "text/plain": [
       "<Figure size 576x396 with 2 Axes>"
      ]
     },
     "metadata": {},
     "output_type": "display_data"
    }
   ],
   "source": [
    "analyser.plot_results()"
   ]
  },
  {
   "cell_type": "markdown",
   "metadata": {},
   "source": [
    "## Task 3: Accuracy + Fairness Based Model"
   ]
  },
  {
   "cell_type": "markdown",
   "metadata": {},
   "source": [
    "### Machine-Learning based model using accuracy+fairness criterion"
   ]
  },
  {
   "cell_type": "code",
   "execution_count": 42,
   "metadata": {},
   "outputs": [
    {
     "name": "stdout",
     "output_type": "stream",
     "text": [
      "Best accuracy: 3\n",
      "Best fairness: 4\n",
      "Best accuracy+fairness: 0\n"
     ]
    }
   ],
   "source": [
    "analyser = Analysis(dataset=selected_dataset, C_values=C_values, solver=\"liblinear\", params={\"penalty\": \"l2\"}, mitigated=False, include_delta=True)\n",
    "analysis = analyser.run()"
   ]
  },
  {
   "cell_type": "code",
   "execution_count": 43,
   "metadata": {},
   "outputs": [
    {
     "data": {
      "text/html": [
       "<div>\n",
       "<style scoped>\n",
       "    .dataframe tbody tr th:only-of-type {\n",
       "        vertical-align: middle;\n",
       "    }\n",
       "\n",
       "    .dataframe tbody tr th {\n",
       "        vertical-align: top;\n",
       "    }\n",
       "\n",
       "    .dataframe thead th {\n",
       "        text-align: right;\n",
       "    }\n",
       "</style>\n",
       "<table border=\"1\" class=\"dataframe\">\n",
       "  <thead>\n",
       "    <tr style=\"text-align: right;\">\n",
       "      <th></th>\n",
       "      <th>model</th>\n",
       "      <th>accuracy</th>\n",
       "      <th>accuracy_std</th>\n",
       "      <th>fairness</th>\n",
       "      <th>accuracy+fairness</th>\n",
       "    </tr>\n",
       "  </thead>\n",
       "  <tbody>\n",
       "    <tr>\n",
       "      <th>0</th>\n",
       "      <td>0.0001</td>\n",
       "      <td>0.655714</td>\n",
       "      <td>0.023647</td>\n",
       "      <td>-0.157834</td>\n",
       "      <td>0.826405</td>\n",
       "    </tr>\n",
       "    <tr>\n",
       "      <th>1</th>\n",
       "      <td>0.0010</td>\n",
       "      <td>0.660000</td>\n",
       "      <td>0.024578</td>\n",
       "      <td>-0.238396</td>\n",
       "      <td>0.904111</td>\n",
       "    </tr>\n",
       "    <tr>\n",
       "      <th>2</th>\n",
       "      <td>0.0100</td>\n",
       "      <td>0.687143</td>\n",
       "      <td>0.029067</td>\n",
       "      <td>-0.294951</td>\n",
       "      <td>0.989237</td>\n",
       "    </tr>\n",
       "    <tr>\n",
       "      <th>3</th>\n",
       "      <td>0.1000</td>\n",
       "      <td>0.695714</td>\n",
       "      <td>0.029485</td>\n",
       "      <td>-0.139268</td>\n",
       "      <td>0.846411</td>\n",
       "    </tr>\n",
       "    <tr>\n",
       "      <th>4</th>\n",
       "      <td>1.0000</td>\n",
       "      <td>0.692857</td>\n",
       "      <td>0.031623</td>\n",
       "      <td>-0.133386</td>\n",
       "      <td>0.840529</td>\n",
       "    </tr>\n",
       "  </tbody>\n",
       "</table>\n",
       "</div>"
      ],
      "text/plain": [
       "    model  accuracy  accuracy_std  fairness  accuracy+fairness\n",
       "0  0.0001  0.655714      0.023647 -0.157834           0.826405\n",
       "1  0.0010  0.660000      0.024578 -0.238396           0.904111\n",
       "2  0.0100  0.687143      0.029067 -0.294951           0.989237\n",
       "3  0.1000  0.695714      0.029485 -0.139268           0.846411\n",
       "4  1.0000  0.692857      0.031623 -0.133386           0.840529"
      ]
     },
     "execution_count": 43,
     "metadata": {},
     "output_type": "execute_result"
    }
   ],
   "source": [
    "analysis['data_frame']"
   ]
  },
  {
   "cell_type": "code",
   "execution_count": 44,
   "metadata": {},
   "outputs": [
    {
     "data": {
      "image/png": "[encoded data removed]",
      "text/plain": [
       "<Figure size 576x396 with 1 Axes>"
      ]
     },
     "metadata": {},
     "output_type": "display_data"
    }
   ],
   "source": [
    "analyser.plot_results(type=\"accuracy+fairness\")"
   ]
  },
  {
   "cell_type": "markdown",
   "metadata": {},
   "source": [
    "### Accuracy and Fairness on test data"
   ]
  },
  {
   "cell_type": "markdown",
   "metadata": {},
   "source": [
    "__[Model 5]: Best Accuracy__"
   ]
  },
  {
   "cell_type": "code",
   "execution_count": 45,
   "metadata": {},
   "outputs": [
    {
     "name": "stdout",
     "output_type": "stream",
     "text": [
      "Accuracy on test set: 0.64\n",
      "Fairness (True Positive Rate Difference) on test set: -0.0970833333333333\n"
     ]
    }
   ],
   "source": [
    "# Best accuracy+fairness\n",
    "test_accuracy = analysis['best_accuracy_fairness_model'].get_accuracy(X_test, y_test)\n",
    "test_fairness = analysis['best_accuracy_fairness_model'].get_fairness(selected_dataset.dataset_orig_test)\n",
    "\n",
    "print(\"Accuracy on test set: \" + str(test_accuracy))\n",
    "print(\"Fairness (True Positive Rate Difference) on test set: \" + str(test_fairness['eq_opp_diff']))\n"
   ]
  },
  {
   "cell_type": "markdown",
   "metadata": {},
   "source": [
    "### Fairness based model using accuracy+fairness criterion"
   ]
  },
  {
   "cell_type": "code",
   "execution_count": 46,
   "metadata": {},
   "outputs": [
    {
     "name": "stdout",
     "output_type": "stream",
     "text": [
      "Best accuracy: 3\n",
      "Best fairness: 3\n",
      "Best accuracy+fairness: 4\n"
     ]
    }
   ],
   "source": [
    "analyser = Analysis(dataset=selected_dataset, C_values=C_values, solver=\"liblinear\", params={\"penalty\": \"l2\"}, mitigated=True, include_delta=True)\n",
    "analysis = analyser.run()"
   ]
  },
  {
   "cell_type": "code",
   "execution_count": 47,
   "metadata": {},
   "outputs": [
    {
     "data": {
      "text/html": [
       "<div>\n",
       "<style scoped>\n",
       "    .dataframe tbody tr th:only-of-type {\n",
       "        vertical-align: middle;\n",
       "    }\n",
       "\n",
       "    .dataframe tbody tr th {\n",
       "        vertical-align: top;\n",
       "    }\n",
       "\n",
       "    .dataframe thead th {\n",
       "        text-align: right;\n",
       "    }\n",
       "</style>\n",
       "<table border=\"1\" class=\"dataframe\">\n",
       "  <thead>\n",
       "    <tr style=\"text-align: right;\">\n",
       "      <th></th>\n",
       "      <th>model</th>\n",
       "      <th>accuracy</th>\n",
       "      <th>accuracy_std</th>\n",
       "      <th>fairness</th>\n",
       "      <th>accuracy+fairness</th>\n",
       "    </tr>\n",
       "  </thead>\n",
       "  <tbody>\n",
       "    <tr>\n",
       "      <th>0</th>\n",
       "      <td>0.0001</td>\n",
       "      <td>0.655714</td>\n",
       "      <td>0.023647</td>\n",
       "      <td>-0.139876</td>\n",
       "      <td>0.809876</td>\n",
       "    </tr>\n",
       "    <tr>\n",
       "      <th>1</th>\n",
       "      <td>0.0010</td>\n",
       "      <td>0.660000</td>\n",
       "      <td>0.024578</td>\n",
       "      <td>-0.103993</td>\n",
       "      <td>0.773993</td>\n",
       "    </tr>\n",
       "    <tr>\n",
       "      <th>2</th>\n",
       "      <td>0.0100</td>\n",
       "      <td>0.687143</td>\n",
       "      <td>0.029067</td>\n",
       "      <td>-0.044911</td>\n",
       "      <td>0.752053</td>\n",
       "    </tr>\n",
       "    <tr>\n",
       "      <th>3</th>\n",
       "      <td>0.1000</td>\n",
       "      <td>0.695714</td>\n",
       "      <td>0.029485</td>\n",
       "      <td>0.003592</td>\n",
       "      <td>0.684979</td>\n",
       "    </tr>\n",
       "    <tr>\n",
       "      <th>4</th>\n",
       "      <td>1.0000</td>\n",
       "      <td>0.692857</td>\n",
       "      <td>0.031623</td>\n",
       "      <td>0.047363</td>\n",
       "      <td>0.641208</td>\n",
       "    </tr>\n",
       "  </tbody>\n",
       "</table>\n",
       "</div>"
      ],
      "text/plain": [
       "    model  accuracy  accuracy_std  fairness  accuracy+fairness\n",
       "0  0.0001  0.655714      0.023647 -0.139876           0.809876\n",
       "1  0.0010  0.660000      0.024578 -0.103993           0.773993\n",
       "2  0.0100  0.687143      0.029067 -0.044911           0.752053\n",
       "3  0.1000  0.695714      0.029485  0.003592           0.684979\n",
       "4  1.0000  0.692857      0.031623  0.047363           0.641208"
      ]
     },
     "execution_count": 47,
     "metadata": {},
     "output_type": "execute_result"
    }
   ],
   "source": [
    "analysis['data_frame']"
   ]
  },
  {
   "cell_type": "code",
   "execution_count": 48,
   "metadata": {},
   "outputs": [
    {
     "data": {
      "image/png": "[encoded data removed]",
      "text/plain": [
       "<Figure size 576x396 with 1 Axes>"
      ]
     },
     "metadata": {},
     "output_type": "display_data"
    }
   ],
   "source": [
    "analyser.plot_results(type=\"accuracy+fairness\")"
   ]
  },
  {
   "cell_type": "markdown",
   "metadata": {},
   "source": [
    "### Accuracy and Fairness on test data"
   ]
  },
  {
   "cell_type": "markdown",
   "metadata": {},
   "source": [
    "__[Model 6]: Best Fairness__"
   ]
  },
  {
   "cell_type": "code",
   "execution_count": 49,
   "metadata": {},
   "outputs": [
    {
     "name": "stdout",
     "output_type": "stream",
     "text": [
      "Accuracy on test set: 0.7166666666666667\n",
      "Fairness (True Positive Rate Difference) on test set: -0.0047916666666666385\n"
     ]
    }
   ],
   "source": [
    "# Best accuracy+fairness\n",
    "test_accuracy = analysis['best_accuracy_fairness_model'].get_accuracy(X_test, y_test)\n",
    "test_fairness = analysis['best_accuracy_fairness_model'].get_fairness(selected_dataset.dataset_orig_test)\n",
    "\n",
    "print(\"Accuracy on test set: \" + str(test_accuracy))\n",
    "print(\"Fairness (True Positive Rate Difference) on test set: \" + str(test_fairness['eq_opp_diff']))\n"
   ]
  },
  {
   "cell_type": "markdown",
   "metadata": {},
   "source": []
  }
 ],
 "metadata": {
  "interpreter": {
   "hash": "1893b06c1eb306a1e719abae99dfb3b9acc49f08e12646795ff8c000a93fc33e"
  },
  "kernelspec": {
   "display_name": "Python 3.9.12 ('ml')",
   "language": "python",
   "name": "python3"
  },
  "language_info": {
   "codemirror_mode": {
    "name": "ipython",
    "version": 3
   },
   "file_extension": ".py",
   "mimetype": "text/x-python",
   "name": "python",
   "nbconvert_exporter": "python",
   "pygments_lexer": "ipython3",
   "version": "3.9.12"
  },
  "orig_nbformat": 4
 },
 "nbformat": 4,
 "nbformat_minor": 2
}
